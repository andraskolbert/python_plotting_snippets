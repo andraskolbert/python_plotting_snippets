{
 "cells": [
  {
   "cell_type": "code",
   "execution_count": 1,
   "metadata": {
    "collapsed": true
   },
   "outputs": [],
   "source": [
    "# Plotting imports\n",
    "%matplotlib inline\n",
    "\n",
    "import matplotlib.pyplot as plt\n",
    "import seaborn as sns\n",
    "\n",
    "sns.set_style('white')"
   ]
  },
  {
   "cell_type": "code",
   "execution_count": 2,
   "metadata": {
    "collapsed": true
   },
   "outputs": [],
   "source": [
    "# Other imports\n",
    "import networkx as nx\n",
    "import random"
   ]
  },
  {
   "cell_type": "code",
   "execution_count": 3,
   "metadata": {
    "collapsed": true
   },
   "outputs": [],
   "source": [
    "# Generate a series of random graphs\n",
    "gs = [nx.random_graphs.powerlaw_cluster_graph(n=random.randint(10, 20),\n",
    "                                             m=random.randint(1, 3),\n",
    "                                             p=random.random()*0.05)\n",
    "     for x in range(7)]"
   ]
  },
  {
   "cell_type": "code",
   "execution_count": 4,
   "metadata": {
    "collapsed": true
   },
   "outputs": [],
   "source": [
    "# Concatenate then in a single graph\n",
    "# (there might be a more efficient way)\n",
    "g = gs[0]\n",
    "for g1 in gs[1:]:\n",
    "    i = max(g.nodes()) + 1\n",
    "    g.add_edges_from([(x+i, y+i) for (x, y) in g1.edges()])"
   ]
  },
  {
   "cell_type": "code",
   "execution_count": 5,
   "metadata": {
    "collapsed": true
   },
   "outputs": [],
   "source": [
    "# Calculate nodes and edge properties\n",
    "# to have something to plot\n",
    "betw_cent = nx.betweenness.betweenness_centrality(g).values()\n",
    "edge_betw_cent = nx.edge_betweenness_centrality(g).values()"
   ]
  },
  {
   "cell_type": "code",
   "execution_count": 6,
   "metadata": {
    "collapsed": true
   },
   "outputs": [],
   "source": [
    "# Graph layout\n",
    "graph_pos = nx.layout.fruchterman_reingold_layout(g)"
   ]
  },
  {
   "cell_type": "code",
   "execution_count": 7,
   "metadata": {
    "collapsed": false
   },
   "outputs": [
    {
     "data": {
      "image/png": "[encoded data removed]",
      "text/plain": [
       "<matplotlib.figure.Figure at 0x7fabc7cb23d0>"
      ]
     },
     "metadata": {},
     "output_type": "display_data"
    }
   ],
   "source": [
    "plt.figure(figsize=(9, 9))\n",
    "\n",
    "# Draw nodes\n",
    "nx.draw_networkx_nodes(g, graph_pos,\n",
    "                       # Node size depends on node degree\n",
    "                       node_size=[x*10 for x in nx.degree(g).values()],\n",
    "                       # Node color depends on node centrality\n",
    "                       node_color=betw_cent,\n",
    "                       cmap=plt.get_cmap('Blues'),\n",
    "                       vmax=max(betw_cent),\n",
    "                       vmin=0)\n",
    "# Draw edges\n",
    "nx.draw_networkx_edges(g, graph_pos,\n",
    "                       # Width depends on edge centrality\n",
    "                       width=[x*250 for x in edge_betw_cent],\n",
    "                       color='k')\n",
    "sns.despine(bottom=True, left=True)\n",
    "plt.xticks([])\n",
    "plt.yticks([])\n",
    "pass"
   ]
  }
 ],
 "metadata": {
  "kernelspec": {
   "display_name": "Python 2",
   "language": "python",
   "name": "python2"
  },
  "language_info": {
   "codemirror_mode": {
    "name": "ipython",
    "version": 2
   },
   "file_extension": ".py",
   "mimetype": "text/x-python",
   "name": "python",
   "nbconvert_exporter": "python",
   "pygments_lexer": "ipython2",
   "version": "2.7.9"
  }
 },
 "nbformat": 4,
 "nbformat_minor": 0
}
